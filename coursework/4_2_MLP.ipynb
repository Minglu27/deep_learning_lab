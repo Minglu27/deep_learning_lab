{
  "cells": [
    {
      "cell_type": "markdown",
      "metadata": {
        "deletable": false,
        "editable": false,
        "nbgrader": {
          "checksum": "95354f8c477678abe1961a6c7e92d373",
          "grade": false,
          "grade_id": "cell-6add8fb517bf450e",
          "locked": true,
          "schema_version": 1,
          "solution": false
        },
        "id": "X3r-UrO-Fkee"
      },
      "source": [
        "# Part 2: Implementing an MLP classifier"
      ]
    },
    {
      "cell_type": "code",
      "execution_count": 1,
      "metadata": {
        "deletable": false,
        "editable": false,
        "nbgrader": {
          "checksum": "e98069b3fc4364255bbf43f61ea7dcdc",
          "grade": false,
          "grade_id": "cell-46f0e98056392225",
          "locked": true,
          "schema_version": 1,
          "solution": false
        },
        "id": "RHzF4DrjFkel",
        "outputId": "f1e87539-2ca2-4946-ec50-cfee2a8e630a",
        "colab": {
          "base_uri": "https://localhost:8080/"
        }
      },
      "outputs": [
        {
          "output_type": "stream",
          "name": "stdout",
          "text": [
            "Collecting torchbearer\n",
            "  Downloading torchbearer-0.5.3-py3-none-any.whl (138 kB)\n",
            "\u001b[?25l\r\u001b[K     |██▍                             | 10 kB 18.9 MB/s eta 0:00:01\r\u001b[K     |████▊                           | 20 kB 11.4 MB/s eta 0:00:01\r\u001b[K     |███████▏                        | 30 kB 8.8 MB/s eta 0:00:01\r\u001b[K     |█████████▌                      | 40 kB 8.2 MB/s eta 0:00:01\r\u001b[K     |███████████▉                    | 51 kB 4.6 MB/s eta 0:00:01\r\u001b[K     |██████████████▎                 | 61 kB 5.4 MB/s eta 0:00:01\r\u001b[K     |████████████████▋               | 71 kB 5.3 MB/s eta 0:00:01\r\u001b[K     |███████████████████             | 81 kB 5.3 MB/s eta 0:00:01\r\u001b[K     |█████████████████████▍          | 92 kB 5.8 MB/s eta 0:00:01\r\u001b[K     |███████████████████████▊        | 102 kB 4.8 MB/s eta 0:00:01\r\u001b[K     |██████████████████████████      | 112 kB 4.8 MB/s eta 0:00:01\r\u001b[K     |████████████████████████████▌   | 122 kB 4.8 MB/s eta 0:00:01\r\u001b[K     |██████████████████████████████▉ | 133 kB 4.8 MB/s eta 0:00:01\r\u001b[K     |████████████████████████████████| 138 kB 4.8 MB/s \n",
            "\u001b[?25hRequirement already satisfied: numpy in /usr/local/lib/python3.7/dist-packages (from torchbearer) (1.21.5)\n",
            "Requirement already satisfied: tqdm in /usr/local/lib/python3.7/dist-packages (from torchbearer) (4.63.0)\n",
            "Requirement already satisfied: torch>=1.0.0 in /usr/local/lib/python3.7/dist-packages (from torchbearer) (1.10.0+cu111)\n",
            "Requirement already satisfied: typing-extensions in /usr/local/lib/python3.7/dist-packages (from torch>=1.0.0->torchbearer) (3.10.0.2)\n",
            "Installing collected packages: torchbearer\n",
            "Successfully installed torchbearer-0.5.3\n"
          ]
        }
      ],
      "source": [
        "# Execute this code block to install dependencies when running on colab\n",
        "try:\n",
        "    import torch\n",
        "except:\n",
        "    from os.path import exists\n",
        "    from wheel.pep425tags import get_abbr_impl, get_impl_ver, get_abi_tag\n",
        "    platform = '{}{}-{}'.format(get_abbr_impl(), get_impl_ver(), get_abi_tag())\n",
        "    cuda_output = !ldconfig -p|grep cudart.so|sed -e 's/.*\\.\\([0-9]*\\)\\.\\([0-9]*\\)$/cu\\1\\2/'\n",
        "    accelerator = cuda_output[0] if exists('/dev/nvidia0') else 'cpu'\n",
        "\n",
        "    !pip install -q http://download.pytorch.org/whl/{accelerator}/torch-1.0.0-{platform}-linux_x86_64.whl torchvision\n",
        "\n",
        "try: \n",
        "    import torchbearer\n",
        "except:\n",
        "    !pip install torchbearer"
      ]
    },
    {
      "cell_type": "markdown",
      "metadata": {
        "deletable": false,
        "editable": false,
        "nbgrader": {
          "checksum": "0d119ab5340e86f17f558c4ac39d144a",
          "grade": false,
          "grade_id": "cell-f5db4e68a397f737",
          "locked": true,
          "schema_version": 1,
          "solution": false
        },
        "id": "ntdi3SSUFken"
      },
      "source": [
        "## Getting Started with a Baseline Multi-Layer Perceptron Model\n",
        "\n",
        "In addition to being a defacto tensor processing and automatic differentiation library, PyTorch provides a general purpose neural network toolbox. Before we start to look at deep convolutional architectures, we can start with something much simpler - a basic multilayer perceptron. Because the MNIST images are relatively small, a fully connected MLP network will have relatively few weights to train; with bigger images, an MLP might not be practical due to the number of weights.\n",
        "\n",
        "In this section we will create a simple multi-layer perceptron model with a single hidden layer that achieves an error rate of 1.88%. We will use this as a baseline for comparing more complex convolutional neural network models later.\n",
        "\n",
        "Let's start off by importing the classes and functions we will need."
      ]
    },
    {
      "cell_type": "code",
      "execution_count": 2,
      "metadata": {
        "deletable": false,
        "editable": false,
        "nbgrader": {
          "checksum": "438bd2f2f83ff9c7556aad79f11a461d",
          "grade": false,
          "grade_id": "cell-6d036cd09e565ad0",
          "locked": true,
          "schema_version": 1,
          "solution": false
        },
        "id": "GhASQeQNFkeo"
      },
      "outputs": [],
      "source": [
        "import torch\n",
        "import torch.nn.functional as F\n",
        "import torchvision.transforms as transforms  #common image transformations, chained together using Compose\n",
        "from torch import nn\n",
        "from torch import optim\n",
        "from torch.utils.data import DataLoader\n",
        "from torchvision.datasets import MNIST"
      ]
    },
    {
      "cell_type": "markdown",
      "metadata": {
        "deletable": false,
        "editable": false,
        "nbgrader": {
          "checksum": "5f5c4769adb2c33437c8a4eb54d7bd1b",
          "grade": false,
          "grade_id": "cell-e58de1bdcfa00145",
          "locked": true,
          "schema_version": 1,
          "solution": false
        },
        "id": "Bv5ryzO5Fkeo"
      },
      "source": [
        "When developing, it is always a good idea to initialize the random number generator to a constant to ensure that the results of your script are reproducible each time you run it. Once the model is implemented and tested we might remove this to enable variance to be captured over multiple training runs."
      ]
    },
    {
      "cell_type": "code",
      "execution_count": 3,
      "metadata": {
        "deletable": false,
        "editable": false,
        "nbgrader": {
          "checksum": "add29d09a6d33468d43d434ce137ce4c",
          "grade": false,
          "grade_id": "cell-4a955106f453e11e",
          "locked": true,
          "schema_version": 1,
          "solution": false
        },
        "id": "2XWurASEFkep"
      },
      "outputs": [],
      "source": [
        "# fix random seed for reproducibility\n",
        "seed = 7\n",
        "torch.manual_seed(seed)\n",
        "torch.backends.cudnn.deterministic = True  #if True, causes cuDNN to only use deterministic convolution algorithms\n",
        "torch.backends.cudnn.benchmark = False  #if True, causes cuDNN to benchmark multiple convolution algorithms and select the fastest.\n",
        "import numpy as np\n",
        "np.random.seed(seed)"
      ]
    },
    {
      "cell_type": "markdown",
      "metadata": {
        "deletable": false,
        "editable": false,
        "nbgrader": {
          "checksum": "09c2bd3128bb5efb31eb3ecf621ab156",
          "grade": false,
          "grade_id": "cell-360d3101d4a6a192",
          "locked": true,
          "schema_version": 1,
          "solution": false
        },
        "id": "HGv-e2k7Fkep"
      },
      "source": [
        "## Loading the MNIST data\n",
        "\n",
        "For the MLP network that we'll shortly define, we need to define a transformation to the data provided by the `MNIST` object that flattens each images into a vector. Before that happens, our transformation must also convert each image from a PIL image to a PyTorch `Tensor`. We can use the classes provided by the `torchvision.transforms` package to compose a set of transforms that given a PIL image will convert the input image to a `Tensor` and reshape that tensor into a vector:"
      ]
    },
    {
      "cell_type": "code",
      "execution_count": 4,
      "metadata": {
        "deletable": false,
        "editable": false,
        "nbgrader": {
          "checksum": "751bb0c3298d0e6d999dd85a448f734b",
          "grade": false,
          "grade_id": "cell-cb6a61ef1807b97c",
          "locked": true,
          "schema_version": 1,
          "solution": false
        },
        "id": "9Y7IaJNlFkeq"
      },
      "outputs": [],
      "source": [
        "# flatten 28*28 images to a 784 vector for each image\n",
        "transform = transforms.Compose([\n",
        "    transforms.ToTensor(),  # convert to tensor\n",
        "    transforms.Lambda(lambda x: x.view(-1))  # flatten into vector\n",
        "])"
      ]
    },
    {
      "cell_type": "markdown",
      "metadata": {
        "deletable": false,
        "editable": false,
        "nbgrader": {
          "checksum": "a7128b572c5b3e57bebfb1d451c92439",
          "grade": false,
          "grade_id": "cell-4310f448a194990b",
          "locked": true,
          "schema_version": 1,
          "solution": false
        },
        "id": "GOyxckiuFker"
      },
      "source": [
        "Note that for the latter part of the transform we use `Lambda` which allows us to construct a custom transform (rather than use one provided by torchvision). In this case our lambda function returns a new view of the input tensor which is a vector of length equal to the product of the input tensor's dimensions. In this particular case the input tensor had shape `[28, 28]`, so the output will have shape `[784]`. Passing `-1` as the input to the `view` method makes it automatically compute the output shape on the basis of the input.\n",
        "\n",
        "Now we can load the training and test splits of the MNIST dataset using the torchvision `MNIST` utility class. We can also provide our `transform` object so that it will be applied automatically when the data loads."
      ]
    },
    {
      "cell_type": "code",
      "execution_count": 5,
      "metadata": {
        "deletable": false,
        "editable": false,
        "nbgrader": {
          "checksum": "33578b54f937770aa5fde263ed002cac",
          "grade": false,
          "grade_id": "cell-a540569d1b188246",
          "locked": true,
          "schema_version": 1,
          "solution": false
        },
        "id": "RvAjX6agFkes",
        "outputId": "46784c7c-9f5b-4841-83c7-b259ebb732c0",
        "colab": {
          "base_uri": "https://localhost:8080/",
          "height": 422,
          "referenced_widgets": [
            "a07f652bb2164426adf708f1e7c9c2a2",
            "2b30186d1f3e467b9ccba4a66db14f01",
            "51624cf5b22d46dd933fad4e67e40240",
            "ef73260374724d4fb6f2cfa2e943e158",
            "41aa6c1d80ba4ad8bf1ccbd5cfdbc16d",
            "253e4f4325384b639c658dbf7f613bc8",
            "81be19be61cc4c3287c83b7a783b8811",
            "e7686b25ed0d47ca8a63786eadbfe5e9",
            "ee07cfaeb20e412e96bfd2a48f5b7a14",
            "bed3fbcdbadc40cfbb04fc1b58bb2528",
            "f36572c40076491fbbeda25cfa02418a",
            "ed4720dc08874eb08c0d971de583163e",
            "a2d1b1845d924285a0de23e36c4376a2",
            "52c60a8292ba4ee2a9d921219199e12d",
            "a152a7a40d9c4be9b671f0777ca6b55d",
            "3efc5959cebd45acba0e4f5c23d91974",
            "ed22e367549a4a3888386eaa6f1ceca5",
            "38fbad76745349d69da69ff1d0ef4f30",
            "8e7c24098baf4811acfb3ba8aa571f6f",
            "efbaaf5fc593461c9e96489b495ce558",
            "fbed4a7722bb4cb6b7212beb90b6b1e9",
            "c27609d30f164b188e19ab45338ba97b",
            "08fae9ae34f049d8a73e5083d76a90b6",
            "1fbf98835b304a43a6e10fd351cb1779",
            "bf4101c65da14cd2ba834e0ef2b4f35d",
            "8717bb1f79f84d66a357190e71e31f5d",
            "1194eab39c264fc19771d10da757a7ef",
            "21e66ce6c7af40049a9ae9156145d34d",
            "c9783c9fe09945a78672fe95ae3208d3",
            "e438f53154454d5384b02955d2afb56b",
            "7be9ba7488b1454a94beeb83e1ed56a0",
            "ddc347d32853414f94db7bdaa3f3e2e7",
            "5db4f42872384ebea76e61fc979d4505",
            "5b40928ca4ec4d5cb8e391af17543ebb",
            "43e49566ef7b4495917b0260e2e55f86",
            "f19586d16ea34d34adf24cc5e941fb3d",
            "618bcd2321a24e2da24b9c0b332943fe",
            "c4c1274133c4496388cb6a59c3628e7e",
            "3adc5486bd5e473e9948f4a45c3ae0eb",
            "9ee223dd5ae04b4ca1eebb43b7406657",
            "61b99e3eaa9940f2be0cdd6c3f870748",
            "05002587c24a4a148c411977902970a6",
            "3aaf8d49b9c74a72a6fc23bed2a71adc",
            "3dcb9e7487734d58bd922d83cef4f7e5"
          ]
        }
      },
      "outputs": [
        {
          "output_type": "stream",
          "name": "stdout",
          "text": [
            "Downloading http://yann.lecun.com/exdb/mnist/train-images-idx3-ubyte.gz\n",
            "Downloading http://yann.lecun.com/exdb/mnist/train-images-idx3-ubyte.gz to ./MNIST/raw/train-images-idx3-ubyte.gz\n"
          ]
        },
        {
          "output_type": "display_data",
          "data": {
            "text/plain": [
              "  0%|          | 0/9912422 [00:00<?, ?it/s]"
            ],
            "application/vnd.jupyter.widget-view+json": {
              "version_major": 2,
              "version_minor": 0,
              "model_id": "a07f652bb2164426adf708f1e7c9c2a2"
            }
          },
          "metadata": {}
        },
        {
          "output_type": "stream",
          "name": "stdout",
          "text": [
            "Extracting ./MNIST/raw/train-images-idx3-ubyte.gz to ./MNIST/raw\n",
            "\n",
            "Downloading http://yann.lecun.com/exdb/mnist/train-labels-idx1-ubyte.gz\n",
            "Downloading http://yann.lecun.com/exdb/mnist/train-labels-idx1-ubyte.gz to ./MNIST/raw/train-labels-idx1-ubyte.gz\n"
          ]
        },
        {
          "output_type": "display_data",
          "data": {
            "text/plain": [
              "  0%|          | 0/28881 [00:00<?, ?it/s]"
            ],
            "application/vnd.jupyter.widget-view+json": {
              "version_major": 2,
              "version_minor": 0,
              "model_id": "ed4720dc08874eb08c0d971de583163e"
            }
          },
          "metadata": {}
        },
        {
          "output_type": "stream",
          "name": "stdout",
          "text": [
            "Extracting ./MNIST/raw/train-labels-idx1-ubyte.gz to ./MNIST/raw\n",
            "\n",
            "Downloading http://yann.lecun.com/exdb/mnist/t10k-images-idx3-ubyte.gz\n",
            "Downloading http://yann.lecun.com/exdb/mnist/t10k-images-idx3-ubyte.gz to ./MNIST/raw/t10k-images-idx3-ubyte.gz\n"
          ]
        },
        {
          "output_type": "display_data",
          "data": {
            "text/plain": [
              "  0%|          | 0/1648877 [00:00<?, ?it/s]"
            ],
            "application/vnd.jupyter.widget-view+json": {
              "version_major": 2,
              "version_minor": 0,
              "model_id": "08fae9ae34f049d8a73e5083d76a90b6"
            }
          },
          "metadata": {}
        },
        {
          "output_type": "stream",
          "name": "stdout",
          "text": [
            "Extracting ./MNIST/raw/t10k-images-idx3-ubyte.gz to ./MNIST/raw\n",
            "\n",
            "Downloading http://yann.lecun.com/exdb/mnist/t10k-labels-idx1-ubyte.gz\n",
            "Downloading http://yann.lecun.com/exdb/mnist/t10k-labels-idx1-ubyte.gz to ./MNIST/raw/t10k-labels-idx1-ubyte.gz\n"
          ]
        },
        {
          "output_type": "display_data",
          "data": {
            "text/plain": [
              "  0%|          | 0/4542 [00:00<?, ?it/s]"
            ],
            "application/vnd.jupyter.widget-view+json": {
              "version_major": 2,
              "version_minor": 0,
              "model_id": "5b40928ca4ec4d5cb8e391af17543ebb"
            }
          },
          "metadata": {}
        },
        {
          "output_type": "stream",
          "name": "stdout",
          "text": [
            "Extracting ./MNIST/raw/t10k-labels-idx1-ubyte.gz to ./MNIST/raw\n",
            "\n"
          ]
        }
      ],
      "source": [
        "trainset = MNIST(\".\", train=True, download=True, transform=transform)\n",
        "testset = MNIST(\".\", train=False, download=True, transform=transform)"
      ]
    },
    {
      "cell_type": "markdown",
      "metadata": {
        "deletable": false,
        "editable": false,
        "nbgrader": {
          "checksum": "b60571c8f2deca9d3c9fd8748e7977d3",
          "grade": false,
          "grade_id": "cell-0f00ba68c3ebd2c3",
          "locked": true,
          "schema_version": 1,
          "solution": false
        },
        "id": "Xa6jP-xjFket"
      },
      "source": [
        "When we train and evaluate our model, we will require batches of data to be provided. As previously mentioned, the `DataLoader` class can automatically provide batches fetched from a `Dataset` object. The `DataLoader` has the ability to fetch batches in the background (using multiple threads if required) to optimise throughput to the deep network model. It also supports shuffling of the data order (very useful for gradient-based learning!)."
      ]
    },
    {
      "cell_type": "code",
      "execution_count": 6,
      "metadata": {
        "deletable": false,
        "editable": false,
        "nbgrader": {
          "checksum": "f1ef180171d80ac56c32f91ffc1667fe",
          "grade": false,
          "grade_id": "cell-c847b428a365a8fb",
          "locked": true,
          "schema_version": 1,
          "solution": false
        },
        "id": "tpc02_gCFket"
      },
      "outputs": [],
      "source": [
        "# create data loaders\n",
        "trainloader = DataLoader(trainset, batch_size=128, shuffle=True)\n",
        "testloader = DataLoader(testset, batch_size=128, shuffle=True)"
      ]
    },
    {
      "cell_type": "markdown",
      "metadata": {
        "deletable": false,
        "editable": false,
        "nbgrader": {
          "checksum": "7651ad04347043d64356ee5f2b943684",
          "grade": false,
          "grade_id": "cell-705fe000588218c5",
          "locked": true,
          "schema_version": 1,
          "solution": false
        },
        "id": "xgyUqKGoFkeu"
      },
      "source": [
        "DataLoaders are iterable and can be used within a loop to fetch batches of data. Each batch is a tuple containing the images in the first element and the labels in the second. __Complete the following code block to calculate the number of instances of each class by iterating over the training data__:"
      ]
    },
    {
      "cell_type": "code",
      "execution_count": 13,
      "metadata": {
        "deletable": false,
        "nbgrader": {
          "checksum": "1e0e833370653c8e9a724f3476ea0302",
          "grade": false,
          "grade_id": "cell-cd6a3d883391addc",
          "locked": false,
          "schema_version": 1,
          "solution": true
        },
        "id": "fu85H-CHFkeu",
        "outputId": "277ecd1a-b6fe-4618-8551-58515040c28f",
        "colab": {
          "base_uri": "https://localhost:8080/"
        }
      },
      "outputs": [
        {
          "output_type": "stream",
          "name": "stdout",
          "text": [
            "tensor([5923, 6742, 5958, 6131, 5842, 5421, 5918, 6265, 5851, 5949],\n",
            "       dtype=torch.int32)\n"
          ]
        }
      ],
      "source": [
        "class_counts = torch.zeros(10, dtype=torch.int32)\n",
        "\n",
        "for (images, labels) in trainloader:\n",
        "    # YOUR CODE HERE\n",
        "    # print(images.shape)\n",
        "    # print(labels.shape)\n",
        "    for label in labels:\n",
        "      class_counts[label] += 1 #labels are from 0-9\n",
        "\n",
        "print(class_counts)"
      ]
    },
    {
      "cell_type": "code",
      "execution_count": 14,
      "metadata": {
        "deletable": false,
        "editable": false,
        "nbgrader": {
          "checksum": "7d033c8be175589387360e1d856b91b6",
          "grade": true,
          "grade_id": "cell-8e6586ecf9f2b748",
          "locked": true,
          "points": 3,
          "schema_version": 1,
          "solution": false
        },
        "id": "-qZY4J0DFkeu"
      },
      "outputs": [],
      "source": [
        "assert class_counts.sum()==60000"
      ]
    },
    {
      "cell_type": "markdown",
      "metadata": {
        "deletable": false,
        "editable": false,
        "nbgrader": {
          "checksum": "48f410cc3673297634aa8bbcfb84fdc9",
          "grade": false,
          "grade_id": "cell-759ef8481db756ca",
          "locked": true,
          "schema_version": 1,
          "solution": false
        },
        "id": "G3fc18x1Fkev"
      },
      "source": [
        "__Answer the following questions (enter the answer in the box below each one):__\n",
        "\n",
        "__1.__ Do all of the batches have the same size?"
      ]
    },
    {
      "cell_type": "markdown",
      "metadata": {
        "deletable": false,
        "nbgrader": {
          "checksum": "cc25cac17fd079fb98fa6240cacfcf3a",
          "grade": true,
          "grade_id": "cell-d7476483eabfb245",
          "locked": false,
          "points": 1,
          "schema_version": 1,
          "solution": true
        },
        "id": "tWQa42rmFkev"
      },
      "source": [
        "No, from the shape of them, the last shape is 96 and others are 128."
      ]
    },
    {
      "cell_type": "markdown",
      "metadata": {
        "deletable": false,
        "editable": false,
        "nbgrader": {
          "checksum": "1022cbf8a7c9ef754b5ea4c8def0e0c6",
          "grade": false,
          "grade_id": "cell-29abc8adeede2c0b",
          "locked": true,
          "schema_version": 1,
          "solution": false
        },
        "id": "j5xuMra3Fkev"
      },
      "source": [
        "__2.__ How can we configure `DataLoader` to control this?"
      ]
    },
    {
      "cell_type": "markdown",
      "metadata": {
        "deletable": false,
        "nbgrader": {
          "checksum": "9f6f03a41e4aee72c044c6cb523d1246",
          "grade": true,
          "grade_id": "cell-c87b3cc38b91cb03",
          "locked": false,
          "points": 1,
          "schema_version": 1,
          "solution": true
        },
        "id": "fLBa-wDoFkew"
      },
      "source": [
        "droplast = True, it can ignore the last batch in the dataset when it's not divisible"
      ]
    },
    {
      "cell_type": "markdown",
      "metadata": {
        "deletable": false,
        "editable": false,
        "nbgrader": {
          "checksum": "dcf7111376d81a83638025a7dec1cc88",
          "grade": false,
          "grade_id": "cell-6d11f32b10eb427e",
          "locked": true,
          "schema_version": 1,
          "solution": false
        },
        "id": "Nk1Rs0KyFkew"
      },
      "source": [
        "## Defining the MLP Model\n",
        "\n",
        "We are now ready to create our simple neural network model. We will define our model in a class that extends `nn.Module`. `nn.Module` subclasses must do a minimum of one thing: implement the `forward` method which takes a batch of data and performs the forward-pass. PyTorch's autograd system will take care of computing the gradients of the forward pass for us. In the code below we'll also make use of the constructor of our model to instantiate the hidden and output layers."
      ]
    },
    {
      "cell_type": "code",
      "execution_count": 16,
      "metadata": {
        "id": "WodMOPVqFkew"
      },
      "outputs": [],
      "source": [
        "# define baseline model\n",
        "class BaselineModel(nn.Module):\n",
        "    def __init__(self, input_size, hidden_size, num_classes):\n",
        "        super(BaselineModel, self).__init__()\n",
        "        self.fc1 = nn.Linear(input_size, hidden_size) \n",
        "        self.fc2 = nn.Linear(hidden_size, num_classes)  \n",
        "    \n",
        "    def forward(self, x):\n",
        "        out = self.fc1(x)\n",
        "        out = F.relu(out)\n",
        "        out = self.fc2(out)\n",
        "        if not self.training: #training = False, training process finished.\n",
        "            out = F.softmax(out, dim=1)\n",
        "        return out"
      ]
    },
    {
      "cell_type": "markdown",
      "metadata": {
        "deletable": false,
        "editable": false,
        "nbgrader": {
          "checksum": "d9b2a915cb2a149ac1415ff18351cc2e",
          "grade": false,
          "grade_id": "cell-e92861120f90c294",
          "locked": true,
          "schema_version": 1,
          "solution": false
        },
        "id": "lX_qJokjFkew"
      },
      "source": [
        "The model is a simple neural network with one hidden layer. A rectifier linear unit (ReLU) activation function is used for the neurons in the hidden layer. Note how we use the PyTorch 'Functional API' for stateless operations like applying the ReLU; we could construct a `torch.nn.ReLU` in the constructor and save it in an instance variable instead, but ultimately this would lead to more lines of code.\n",
        "\n",
        "The `nn.Module` class defines a instance variable called `training` that is set to `True` when the model is being trained and `False` when it is being evaluated after being trained. In our model definition we've used a softmax activation function on the output layer to turn the outputs into probability-like values, but have only set this to be enabled when we are not training the model. We've done this because we will use PyTorch's implementation of Cross Entropy Loss (`nn.CrossEntropyLoss`) during training which implicitly adds a softmax before a logarithmic loss (technically it adds a log-softmax activation followed by a negative log-likelihood loss as this has much better numerical properties). If you've used a library like Keras before you should note that this approach is different to the one taken there - Keras expects you to explicitly add a `Softmax` layer to use with its `categorical_crossentropy` loss.\n",
        "\n",
        "In our case the softmax isn't actually necessary for model evaluation if we're only interested in the most likely class; the _logits_ (unscaled log probabilities) provided by the final fully connected layer before the softmax can be used directly as the largest logit will correspond to the most likely class.\n",
        "\n",
        "## Training and Evaluating the Model\n",
        "We can now fit and evaluate the model. One of the design decisions of PyTorch is that everything should be explicit so we have full control over our models and the training process. This means that we actually need to write the model training loop by hand, and perform each of the various operations (perform the forward-pass, compute the loss, perform the backward-pass, and update the weights). In the code below we'll fit the model to the data over 10 epochs using batches of 128 images provided by the `DataLoader` defined previously. We'll make use of the ADAM optimiser as it broadly tends to work well practically despite its limitations. Running the code below should take just a couple of minutes to complete the training."
      ]
    },
    {
      "cell_type": "code",
      "execution_count": 17,
      "metadata": {
        "id": "tKuBo2MuFkex",
        "outputId": "a9f4a933-6685-4732-d0f2-0eae7e96fd64",
        "colab": {
          "base_uri": "https://localhost:8080/"
        }
      },
      "outputs": [
        {
          "output_type": "stream",
          "name": "stdout",
          "text": [
            "Epoch 0, loss 136.90\n",
            "Epoch 1, loss 52.10\n",
            "Epoch 2, loss 33.57\n",
            "Epoch 3, loss 23.41\n",
            "Epoch 4, loss 17.10\n",
            "Epoch 5, loss 12.54\n",
            "Epoch 6, loss 10.05\n",
            "Epoch 7, loss 7.61\n",
            "Epoch 8, loss 4.96\n",
            "Epoch 9, loss 4.48\n",
            "**** Finished Training ****\n"
          ]
        }
      ],
      "source": [
        "# build the model \n",
        "model = BaselineModel(784, 784, 10)\n",
        "\n",
        "# define the loss function and the optimiser\n",
        "loss_function = nn.CrossEntropyLoss()\n",
        "optimiser = optim.Adam(model.parameters())\n",
        "\n",
        "# the epoch loop\n",
        "for epoch in range(10):\n",
        "    running_loss = 0.0\n",
        "    for data in trainloader:\n",
        "        # get the inputs\n",
        "        inputs, labels = data\n",
        "\n",
        "        # zero the parameter gradients\n",
        "        optimiser.zero_grad()\n",
        "\n",
        "        # forward + loss + backward + optimise (update weights)\n",
        "        outputs = model(inputs)\n",
        "        loss = loss_function(outputs, labels)\n",
        "        loss.backward()\n",
        "        optimiser.step()\n",
        "\n",
        "        # keep track of the loss this epoch\n",
        "        running_loss += loss.item()\n",
        "    print(\"Epoch %d, loss %4.2f\" % (epoch, running_loss))\n",
        "print('**** Finished Training ****')"
      ]
    },
    {
      "cell_type": "markdown",
      "metadata": {
        "deletable": false,
        "editable": false,
        "nbgrader": {
          "checksum": "2462a62df8582d5597cae7ea8b0a4b79",
          "grade": false,
          "grade_id": "cell-bc1ac2c5ef9f4cc8",
          "locked": true,
          "schema_version": 1,
          "solution": false
        },
        "id": "WD7QU0iGFkex"
      },
      "source": [
        "In the above we added a crude indicator of progress by printing the total loss at the end of each epoch. Hopefully the loss went down as the model learned! \n",
        "\n",
        "At this point it would be good to compute the overall accuracy of the test set. __Use the following code block to finish implementation of the accuracy computation.__ Note that before the code you'll implement we've made a call to `model.eval()` - this sets the model into evaluation mode and supresses non-training things (gradients, and things such as dropout being applied/computed)."
      ]
    },
    {
      "cell_type": "code",
      "execution_count": 19,
      "metadata": {
        "deletable": false,
        "nbgrader": {
          "checksum": "bf7f8d7a58c1000cdc77b53eb16b3e74",
          "grade": true,
          "grade_id": "cell-13268e61111fdb7e",
          "locked": false,
          "points": 5,
          "schema_version": 1,
          "solution": true
        },
        "id": "roEboHnWFkex",
        "outputId": "7a859ea0-0b4a-401e-8e12-9965712146db",
        "colab": {
          "base_uri": "https://localhost:8080/"
        }
      },
      "outputs": [
        {
          "output_type": "stream",
          "name": "stdout",
          "text": [
            "Test Accuracy: 98.09 %\n"
          ]
        }
      ],
      "source": [
        "model.eval()\n",
        "\n",
        "# Compute the model accuracy on the test set\n",
        "correct = 0\n",
        "total = 0\n",
        "\n",
        "# YOUR CODE HERE\n",
        "for data in testloader:\n",
        "\n",
        "      inputs, labels = data\n",
        "      outputs = model(inputs)\n",
        "      for (output, real_label) in zip(outputs, labels):\n",
        "        if (torch.argmax(output) == real_label):\n",
        "          correct += 1\n",
        "        total += 1\n",
        "\n",
        "print('Test Accuracy: %2.2f %%' % ((100.0 * correct) / total))"
      ]
    },
    {
      "cell_type": "markdown",
      "metadata": {
        "deletable": false,
        "editable": false,
        "nbgrader": {
          "checksum": "bc70fc40020d8fdecbe95f65eddc8d8d",
          "grade": false,
          "grade_id": "cell-8c5589e8e96c3bff",
          "locked": true,
          "schema_version": 1,
          "solution": false
        },
        "id": "zNUiag3EFkey"
      },
      "source": [
        "__In multi-class classification tasks it is often instructive to explore the accuracy of each class. Use the code block below to complete the function that produces the per-class accuracy:__"
      ]
    },
    {
      "cell_type": "code",
      "execution_count": 26,
      "metadata": {
        "deletable": false,
        "nbgrader": {
          "checksum": "3f15c7920dfc01dc1f8a11c1b359e22b",
          "grade": true,
          "grade_id": "cell-64fb2d2effc2543d",
          "locked": false,
          "points": 5,
          "schema_version": 1,
          "solution": true
        },
        "id": "c4vEWWdLFkey",
        "outputId": "dc3f9381-c5f2-480a-d258-6e3462caed66",
        "colab": {
          "base_uri": "https://localhost:8080/"
        }
      },
      "outputs": [
        {
          "output_type": "stream",
          "name": "stdout",
          "text": [
            "Class 0 accuracy: 98.27 %\n",
            "Class 1 accuracy: 99.30 %\n",
            "Class 2 accuracy: 98.16 %\n",
            "Class 3 accuracy: 97.92 %\n",
            "Class 4 accuracy: 97.25 %\n",
            "Class 5 accuracy: 98.77 %\n",
            "Class 6 accuracy: 97.81 %\n",
            "Class 7 accuracy: 97.08 %\n",
            "Class 8 accuracy: 97.54 %\n",
            "Class 9 accuracy: 98.71 %\n"
          ]
        }
      ],
      "source": [
        "# Compute the model accuracy on the test set\n",
        "class_correct = torch.zeros(10)\n",
        "class_total = torch.zeros(10)\n",
        "\n",
        "# YOUR CODE HERE\n",
        "for data in testloader:\n",
        "      inputs, labels = data\n",
        "      for label in labels:\n",
        "        class_total[label] += 1\n",
        "\n",
        "      outputs = model(inputs)\n",
        "\n",
        "      for i in range(outputs.shape[0]):\n",
        "        if (torch.argmax(outputs[i]) == labels[i]):\n",
        "          class_correct[labels[i]] += 1\n",
        "\n",
        "\n",
        "for i in range(10):\n",
        "    print('Class %d accuracy: %2.2f %%' % (i, 100.0*class_correct[i] / class_total[i]))"
      ]
    },
    {
      "cell_type": "code",
      "execution_count": null,
      "metadata": {
        "id": "12ZRDi1GFkey"
      },
      "outputs": [],
      "source": [
        ""
      ]
    }
  ],
  "metadata": {
    "kernelspec": {
      "display_name": "Python 3",
      "language": "python",
      "name": "python3"
    },
    "language_info": {
      "codemirror_mode": {
        "name": "ipython",
        "version": 3
      },
      "file_extension": ".py",
      "mimetype": "text/x-python",
      "name": "python",
      "nbconvert_exporter": "python",
      "pygments_lexer": "ipython3",
      "version": "3.6.7"
    },
    "colab": {
      "name": "4_2_MLP.ipynb",
      "provenance": []
    },
    "widgets": {
      "application/vnd.jupyter.widget-state+json": {
        "a07f652bb2164426adf708f1e7c9c2a2": {
          "model_module": "@jupyter-widgets/controls",
          "model_name": "HBoxModel",
          "model_module_version": "1.5.0",
          "state": {
            "_dom_classes": [],
            "_model_module": "@jupyter-widgets/controls",
            "_model_module_version": "1.5.0",
            "_model_name": "HBoxModel",
            "_view_count": null,
            "_view_module": "@jupyter-widgets/controls",
            "_view_module_version": "1.5.0",
            "_view_name": "HBoxView",
            "box_style": "",
            "children": [
              "IPY_MODEL_2b30186d1f3e467b9ccba4a66db14f01",
              "IPY_MODEL_51624cf5b22d46dd933fad4e67e40240",
              "IPY_MODEL_ef73260374724d4fb6f2cfa2e943e158"
            ],
            "layout": "IPY_MODEL_41aa6c1d80ba4ad8bf1ccbd5cfdbc16d"
          }
        },
        "2b30186d1f3e467b9ccba4a66db14f01": {
          "model_module": "@jupyter-widgets/controls",
          "model_name": "HTMLModel",
          "model_module_version": "1.5.0",
          "state": {
            "_dom_classes": [],
            "_model_module": "@jupyter-widgets/controls",
            "_model_module_version": "1.5.0",
            "_model_name": "HTMLModel",
            "_view_count": null,
            "_view_module": "@jupyter-widgets/controls",
            "_view_module_version": "1.5.0",
            "_view_name": "HTMLView",
            "description": "",
            "description_tooltip": null,
            "layout": "IPY_MODEL_253e4f4325384b639c658dbf7f613bc8",
            "placeholder": "​",
            "style": "IPY_MODEL_81be19be61cc4c3287c83b7a783b8811",
            "value": ""
          }
        },
        "51624cf5b22d46dd933fad4e67e40240": {
          "model_module": "@jupyter-widgets/controls",
          "model_name": "FloatProgressModel",
          "model_module_version": "1.5.0",
          "state": {
            "_dom_classes": [],
            "_model_module": "@jupyter-widgets/controls",
            "_model_module_version": "1.5.0",
            "_model_name": "FloatProgressModel",
            "_view_count": null,
            "_view_module": "@jupyter-widgets/controls",
            "_view_module_version": "1.5.0",
            "_view_name": "ProgressView",
            "bar_style": "success",
            "description": "",
            "description_tooltip": null,
            "layout": "IPY_MODEL_e7686b25ed0d47ca8a63786eadbfe5e9",
            "max": 9912422,
            "min": 0,
            "orientation": "horizontal",
            "style": "IPY_MODEL_ee07cfaeb20e412e96bfd2a48f5b7a14",
            "value": 9912422
          }
        },
        "ef73260374724d4fb6f2cfa2e943e158": {
          "model_module": "@jupyter-widgets/controls",
          "model_name": "HTMLModel",
          "model_module_version": "1.5.0",
          "state": {
            "_dom_classes": [],
            "_model_module": "@jupyter-widgets/controls",
            "_model_module_version": "1.5.0",
            "_model_name": "HTMLModel",
            "_view_count": null,
            "_view_module": "@jupyter-widgets/controls",
            "_view_module_version": "1.5.0",
            "_view_name": "HTMLView",
            "description": "",
            "description_tooltip": null,
            "layout": "IPY_MODEL_bed3fbcdbadc40cfbb04fc1b58bb2528",
            "placeholder": "​",
            "style": "IPY_MODEL_f36572c40076491fbbeda25cfa02418a",
            "value": " 9913344/? [00:00&lt;00:00, 32010177.27it/s]"
          }
        },
        "41aa6c1d80ba4ad8bf1ccbd5cfdbc16d": {
          "model_module": "@jupyter-widgets/base",
          "model_name": "LayoutModel",
          "model_module_version": "1.2.0",
          "state": {
            "_model_module": "@jupyter-widgets/base",
            "_model_module_version": "1.2.0",
            "_model_name": "LayoutModel",
            "_view_count": null,
            "_view_module": "@jupyter-widgets/base",
            "_view_module_version": "1.2.0",
            "_view_name": "LayoutView",
            "align_content": null,
            "align_items": null,
            "align_self": null,
            "border": null,
            "bottom": null,
            "display": null,
            "flex": null,
            "flex_flow": null,
            "grid_area": null,
            "grid_auto_columns": null,
            "grid_auto_flow": null,
            "grid_auto_rows": null,
            "grid_column": null,
            "grid_gap": null,
            "grid_row": null,
            "grid_template_areas": null,
            "grid_template_columns": null,
            "grid_template_rows": null,
            "height": null,
            "justify_content": null,
            "justify_items": null,
            "left": null,
            "margin": null,
            "max_height": null,
            "max_width": null,
            "min_height": null,
            "min_width": null,
            "object_fit": null,
            "object_position": null,
            "order": null,
            "overflow": null,
            "overflow_x": null,
            "overflow_y": null,
            "padding": null,
            "right": null,
            "top": null,
            "visibility": null,
            "width": null
          }
        },
        "253e4f4325384b639c658dbf7f613bc8": {
          "model_module": "@jupyter-widgets/base",
          "model_name": "LayoutModel",
          "model_module_version": "1.2.0",
          "state": {
            "_model_module": "@jupyter-widgets/base",
            "_model_module_version": "1.2.0",
            "_model_name": "LayoutModel",
            "_view_count": null,
            "_view_module": "@jupyter-widgets/base",
            "_view_module_version": "1.2.0",
            "_view_name": "LayoutView",
            "align_content": null,
            "align_items": null,
            "align_self": null,
            "border": null,
            "bottom": null,
            "display": null,
            "flex": null,
            "flex_flow": null,
            "grid_area": null,
            "grid_auto_columns": null,
            "grid_auto_flow": null,
            "grid_auto_rows": null,
            "grid_column": null,
            "grid_gap": null,
            "grid_row": null,
            "grid_template_areas": null,
            "grid_template_columns": null,
            "grid_template_rows": null,
            "height": null,
            "justify_content": null,
            "justify_items": null,
            "left": null,
            "margin": null,
            "max_height": null,
            "max_width": null,
            "min_height": null,
            "min_width": null,
            "object_fit": null,
            "object_position": null,
            "order": null,
            "overflow": null,
            "overflow_x": null,
            "overflow_y": null,
            "padding": null,
            "right": null,
            "top": null,
            "visibility": null,
            "width": null
          }
        },
        "81be19be61cc4c3287c83b7a783b8811": {
          "model_module": "@jupyter-widgets/controls",
          "model_name": "DescriptionStyleModel",
          "model_module_version": "1.5.0",
          "state": {
            "_model_module": "@jupyter-widgets/controls",
            "_model_module_version": "1.5.0",
            "_model_name": "DescriptionStyleModel",
            "_view_count": null,
            "_view_module": "@jupyter-widgets/base",
            "_view_module_version": "1.2.0",
            "_view_name": "StyleView",
            "description_width": ""
          }
        },
        "e7686b25ed0d47ca8a63786eadbfe5e9": {
          "model_module": "@jupyter-widgets/base",
          "model_name": "LayoutModel",
          "model_module_version": "1.2.0",
          "state": {
            "_model_module": "@jupyter-widgets/base",
            "_model_module_version": "1.2.0",
            "_model_name": "LayoutModel",
            "_view_count": null,
            "_view_module": "@jupyter-widgets/base",
            "_view_module_version": "1.2.0",
            "_view_name": "LayoutView",
            "align_content": null,
            "align_items": null,
            "align_self": null,
            "border": null,
            "bottom": null,
            "display": null,
            "flex": null,
            "flex_flow": null,
            "grid_area": null,
            "grid_auto_columns": null,
            "grid_auto_flow": null,
            "grid_auto_rows": null,
            "grid_column": null,
            "grid_gap": null,
            "grid_row": null,
            "grid_template_areas": null,
            "grid_template_columns": null,
            "grid_template_rows": null,
            "height": null,
            "justify_content": null,
            "justify_items": null,
            "left": null,
            "margin": null,
            "max_height": null,
            "max_width": null,
            "min_height": null,
            "min_width": null,
            "object_fit": null,
            "object_position": null,
            "order": null,
            "overflow": null,
            "overflow_x": null,
            "overflow_y": null,
            "padding": null,
            "right": null,
            "top": null,
            "visibility": null,
            "width": null
          }
        },
        "ee07cfaeb20e412e96bfd2a48f5b7a14": {
          "model_module": "@jupyter-widgets/controls",
          "model_name": "ProgressStyleModel",
          "model_module_version": "1.5.0",
          "state": {
            "_model_module": "@jupyter-widgets/controls",
            "_model_module_version": "1.5.0",
            "_model_name": "ProgressStyleModel",
            "_view_count": null,
            "_view_module": "@jupyter-widgets/base",
            "_view_module_version": "1.2.0",
            "_view_name": "StyleView",
            "bar_color": null,
            "description_width": ""
          }
        },
        "bed3fbcdbadc40cfbb04fc1b58bb2528": {
          "model_module": "@jupyter-widgets/base",
          "model_name": "LayoutModel",
          "model_module_version": "1.2.0",
          "state": {
            "_model_module": "@jupyter-widgets/base",
            "_model_module_version": "1.2.0",
            "_model_name": "LayoutModel",
            "_view_count": null,
            "_view_module": "@jupyter-widgets/base",
            "_view_module_version": "1.2.0",
            "_view_name": "LayoutView",
            "align_content": null,
            "align_items": null,
            "align_self": null,
            "border": null,
            "bottom": null,
            "display": null,
            "flex": null,
            "flex_flow": null,
            "grid_area": null,
            "grid_auto_columns": null,
            "grid_auto_flow": null,
            "grid_auto_rows": null,
            "grid_column": null,
            "grid_gap": null,
            "grid_row": null,
            "grid_template_areas": null,
            "grid_template_columns": null,
            "grid_template_rows": null,
            "height": null,
            "justify_content": null,
            "justify_items": null,
            "left": null,
            "margin": null,
            "max_height": null,
            "max_width": null,
            "min_height": null,
            "min_width": null,
            "object_fit": null,
            "object_position": null,
            "order": null,
            "overflow": null,
            "overflow_x": null,
            "overflow_y": null,
            "padding": null,
            "right": null,
            "top": null,
            "visibility": null,
            "width": null
          }
        },
        "f36572c40076491fbbeda25cfa02418a": {
          "model_module": "@jupyter-widgets/controls",
          "model_name": "DescriptionStyleModel",
          "model_module_version": "1.5.0",
          "state": {
            "_model_module": "@jupyter-widgets/controls",
            "_model_module_version": "1.5.0",
            "_model_name": "DescriptionStyleModel",
            "_view_count": null,
            "_view_module": "@jupyter-widgets/base",
            "_view_module_version": "1.2.0",
            "_view_name": "StyleView",
            "description_width": ""
          }
        },
        "ed4720dc08874eb08c0d971de583163e": {
          "model_module": "@jupyter-widgets/controls",
          "model_name": "HBoxModel",
          "model_module_version": "1.5.0",
          "state": {
            "_dom_classes": [],
            "_model_module": "@jupyter-widgets/controls",
            "_model_module_version": "1.5.0",
            "_model_name": "HBoxModel",
            "_view_count": null,
            "_view_module": "@jupyter-widgets/controls",
            "_view_module_version": "1.5.0",
            "_view_name": "HBoxView",
            "box_style": "",
            "children": [
              "IPY_MODEL_a2d1b1845d924285a0de23e36c4376a2",
              "IPY_MODEL_52c60a8292ba4ee2a9d921219199e12d",
              "IPY_MODEL_a152a7a40d9c4be9b671f0777ca6b55d"
            ],
            "layout": "IPY_MODEL_3efc5959cebd45acba0e4f5c23d91974"
          }
        },
        "a2d1b1845d924285a0de23e36c4376a2": {
          "model_module": "@jupyter-widgets/controls",
          "model_name": "HTMLModel",
          "model_module_version": "1.5.0",
          "state": {
            "_dom_classes": [],
            "_model_module": "@jupyter-widgets/controls",
            "_model_module_version": "1.5.0",
            "_model_name": "HTMLModel",
            "_view_count": null,
            "_view_module": "@jupyter-widgets/controls",
            "_view_module_version": "1.5.0",
            "_view_name": "HTMLView",
            "description": "",
            "description_tooltip": null,
            "layout": "IPY_MODEL_ed22e367549a4a3888386eaa6f1ceca5",
            "placeholder": "​",
            "style": "IPY_MODEL_38fbad76745349d69da69ff1d0ef4f30",
            "value": ""
          }
        },
        "52c60a8292ba4ee2a9d921219199e12d": {
          "model_module": "@jupyter-widgets/controls",
          "model_name": "FloatProgressModel",
          "model_module_version": "1.5.0",
          "state": {
            "_dom_classes": [],
            "_model_module": "@jupyter-widgets/controls",
            "_model_module_version": "1.5.0",
            "_model_name": "FloatProgressModel",
            "_view_count": null,
            "_view_module": "@jupyter-widgets/controls",
            "_view_module_version": "1.5.0",
            "_view_name": "ProgressView",
            "bar_style": "success",
            "description": "",
            "description_tooltip": null,
            "layout": "IPY_MODEL_8e7c24098baf4811acfb3ba8aa571f6f",
            "max": 28881,
            "min": 0,
            "orientation": "horizontal",
            "style": "IPY_MODEL_efbaaf5fc593461c9e96489b495ce558",
            "value": 28881
          }
        },
        "a152a7a40d9c4be9b671f0777ca6b55d": {
          "model_module": "@jupyter-widgets/controls",
          "model_name": "HTMLModel",
          "model_module_version": "1.5.0",
          "state": {
            "_dom_classes": [],
            "_model_module": "@jupyter-widgets/controls",
            "_model_module_version": "1.5.0",
            "_model_name": "HTMLModel",
            "_view_count": null,
            "_view_module": "@jupyter-widgets/controls",
            "_view_module_version": "1.5.0",
            "_view_name": "HTMLView",
            "description": "",
            "description_tooltip": null,
            "layout": "IPY_MODEL_fbed4a7722bb4cb6b7212beb90b6b1e9",
            "placeholder": "​",
            "style": "IPY_MODEL_c27609d30f164b188e19ab45338ba97b",
            "value": " 29696/? [00:00&lt;00:00, 572438.59it/s]"
          }
        },
        "3efc5959cebd45acba0e4f5c23d91974": {
          "model_module": "@jupyter-widgets/base",
          "model_name": "LayoutModel",
          "model_module_version": "1.2.0",
          "state": {
            "_model_module": "@jupyter-widgets/base",
            "_model_module_version": "1.2.0",
            "_model_name": "LayoutModel",
            "_view_count": null,
            "_view_module": "@jupyter-widgets/base",
            "_view_module_version": "1.2.0",
            "_view_name": "LayoutView",
            "align_content": null,
            "align_items": null,
            "align_self": null,
            "border": null,
            "bottom": null,
            "display": null,
            "flex": null,
            "flex_flow": null,
            "grid_area": null,
            "grid_auto_columns": null,
            "grid_auto_flow": null,
            "grid_auto_rows": null,
            "grid_column": null,
            "grid_gap": null,
            "grid_row": null,
            "grid_template_areas": null,
            "grid_template_columns": null,
            "grid_template_rows": null,
            "height": null,
            "justify_content": null,
            "justify_items": null,
            "left": null,
            "margin": null,
            "max_height": null,
            "max_width": null,
            "min_height": null,
            "min_width": null,
            "object_fit": null,
            "object_position": null,
            "order": null,
            "overflow": null,
            "overflow_x": null,
            "overflow_y": null,
            "padding": null,
            "right": null,
            "top": null,
            "visibility": null,
            "width": null
          }
        },
        "ed22e367549a4a3888386eaa6f1ceca5": {
          "model_module": "@jupyter-widgets/base",
          "model_name": "LayoutModel",
          "model_module_version": "1.2.0",
          "state": {
            "_model_module": "@jupyter-widgets/base",
            "_model_module_version": "1.2.0",
            "_model_name": "LayoutModel",
            "_view_count": null,
            "_view_module": "@jupyter-widgets/base",
            "_view_module_version": "1.2.0",
            "_view_name": "LayoutView",
            "align_content": null,
            "align_items": null,
            "align_self": null,
            "border": null,
            "bottom": null,
            "display": null,
            "flex": null,
            "flex_flow": null,
            "grid_area": null,
            "grid_auto_columns": null,
            "grid_auto_flow": null,
            "grid_auto_rows": null,
            "grid_column": null,
            "grid_gap": null,
            "grid_row": null,
            "grid_template_areas": null,
            "grid_template_columns": null,
            "grid_template_rows": null,
            "height": null,
            "justify_content": null,
            "justify_items": null,
            "left": null,
            "margin": null,
            "max_height": null,
            "max_width": null,
            "min_height": null,
            "min_width": null,
            "object_fit": null,
            "object_position": null,
            "order": null,
            "overflow": null,
            "overflow_x": null,
            "overflow_y": null,
            "padding": null,
            "right": null,
            "top": null,
            "visibility": null,
            "width": null
          }
        },
        "38fbad76745349d69da69ff1d0ef4f30": {
          "model_module": "@jupyter-widgets/controls",
          "model_name": "DescriptionStyleModel",
          "model_module_version": "1.5.0",
          "state": {
            "_model_module": "@jupyter-widgets/controls",
            "_model_module_version": "1.5.0",
            "_model_name": "DescriptionStyleModel",
            "_view_count": null,
            "_view_module": "@jupyter-widgets/base",
            "_view_module_version": "1.2.0",
            "_view_name": "StyleView",
            "description_width": ""
          }
        },
        "8e7c24098baf4811acfb3ba8aa571f6f": {
          "model_module": "@jupyter-widgets/base",
          "model_name": "LayoutModel",
          "model_module_version": "1.2.0",
          "state": {
            "_model_module": "@jupyter-widgets/base",
            "_model_module_version": "1.2.0",
            "_model_name": "LayoutModel",
            "_view_count": null,
            "_view_module": "@jupyter-widgets/base",
            "_view_module_version": "1.2.0",
            "_view_name": "LayoutView",
            "align_content": null,
            "align_items": null,
            "align_self": null,
            "border": null,
            "bottom": null,
            "display": null,
            "flex": null,
            "flex_flow": null,
            "grid_area": null,
            "grid_auto_columns": null,
            "grid_auto_flow": null,
            "grid_auto_rows": null,
            "grid_column": null,
            "grid_gap": null,
            "grid_row": null,
            "grid_template_areas": null,
            "grid_template_columns": null,
            "grid_template_rows": null,
            "height": null,
            "justify_content": null,
            "justify_items": null,
            "left": null,
            "margin": null,
            "max_height": null,
            "max_width": null,
            "min_height": null,
            "min_width": null,
            "object_fit": null,
            "object_position": null,
            "order": null,
            "overflow": null,
            "overflow_x": null,
            "overflow_y": null,
            "padding": null,
            "right": null,
            "top": null,
            "visibility": null,
            "width": null
          }
        },
        "efbaaf5fc593461c9e96489b495ce558": {
          "model_module": "@jupyter-widgets/controls",
          "model_name": "ProgressStyleModel",
          "model_module_version": "1.5.0",
          "state": {
            "_model_module": "@jupyter-widgets/controls",
            "_model_module_version": "1.5.0",
            "_model_name": "ProgressStyleModel",
            "_view_count": null,
            "_view_module": "@jupyter-widgets/base",
            "_view_module_version": "1.2.0",
            "_view_name": "StyleView",
            "bar_color": null,
            "description_width": ""
          }
        },
        "fbed4a7722bb4cb6b7212beb90b6b1e9": {
          "model_module": "@jupyter-widgets/base",
          "model_name": "LayoutModel",
          "model_module_version": "1.2.0",
          "state": {
            "_model_module": "@jupyter-widgets/base",
            "_model_module_version": "1.2.0",
            "_model_name": "LayoutModel",
            "_view_count": null,
            "_view_module": "@jupyter-widgets/base",
            "_view_module_version": "1.2.0",
            "_view_name": "LayoutView",
            "align_content": null,
            "align_items": null,
            "align_self": null,
            "border": null,
            "bottom": null,
            "display": null,
            "flex": null,
            "flex_flow": null,
            "grid_area": null,
            "grid_auto_columns": null,
            "grid_auto_flow": null,
            "grid_auto_rows": null,
            "grid_column": null,
            "grid_gap": null,
            "grid_row": null,
            "grid_template_areas": null,
            "grid_template_columns": null,
            "grid_template_rows": null,
            "height": null,
            "justify_content": null,
            "justify_items": null,
            "left": null,
            "margin": null,
            "max_height": null,
            "max_width": null,
            "min_height": null,
            "min_width": null,
            "object_fit": null,
            "object_position": null,
            "order": null,
            "overflow": null,
            "overflow_x": null,
            "overflow_y": null,
            "padding": null,
            "right": null,
            "top": null,
            "visibility": null,
            "width": null
          }
        },
        "c27609d30f164b188e19ab45338ba97b": {
          "model_module": "@jupyter-widgets/controls",
          "model_name": "DescriptionStyleModel",
          "model_module_version": "1.5.0",
          "state": {
            "_model_module": "@jupyter-widgets/controls",
            "_model_module_version": "1.5.0",
            "_model_name": "DescriptionStyleModel",
            "_view_count": null,
            "_view_module": "@jupyter-widgets/base",
            "_view_module_version": "1.2.0",
            "_view_name": "StyleView",
            "description_width": ""
          }
        },
        "08fae9ae34f049d8a73e5083d76a90b6": {
          "model_module": "@jupyter-widgets/controls",
          "model_name": "HBoxModel",
          "model_module_version": "1.5.0",
          "state": {
            "_dom_classes": [],
            "_model_module": "@jupyter-widgets/controls",
            "_model_module_version": "1.5.0",
            "_model_name": "HBoxModel",
            "_view_count": null,
            "_view_module": "@jupyter-widgets/controls",
            "_view_module_version": "1.5.0",
            "_view_name": "HBoxView",
            "box_style": "",
            "children": [
              "IPY_MODEL_1fbf98835b304a43a6e10fd351cb1779",
              "IPY_MODEL_bf4101c65da14cd2ba834e0ef2b4f35d",
              "IPY_MODEL_8717bb1f79f84d66a357190e71e31f5d"
            ],
            "layout": "IPY_MODEL_1194eab39c264fc19771d10da757a7ef"
          }
        },
        "1fbf98835b304a43a6e10fd351cb1779": {
          "model_module": "@jupyter-widgets/controls",
          "model_name": "HTMLModel",
          "model_module_version": "1.5.0",
          "state": {
            "_dom_classes": [],
            "_model_module": "@jupyter-widgets/controls",
            "_model_module_version": "1.5.0",
            "_model_name": "HTMLModel",
            "_view_count": null,
            "_view_module": "@jupyter-widgets/controls",
            "_view_module_version": "1.5.0",
            "_view_name": "HTMLView",
            "description": "",
            "description_tooltip": null,
            "layout": "IPY_MODEL_21e66ce6c7af40049a9ae9156145d34d",
            "placeholder": "​",
            "style": "IPY_MODEL_c9783c9fe09945a78672fe95ae3208d3",
            "value": ""
          }
        },
        "bf4101c65da14cd2ba834e0ef2b4f35d": {
          "model_module": "@jupyter-widgets/controls",
          "model_name": "FloatProgressModel",
          "model_module_version": "1.5.0",
          "state": {
            "_dom_classes": [],
            "_model_module": "@jupyter-widgets/controls",
            "_model_module_version": "1.5.0",
            "_model_name": "FloatProgressModel",
            "_view_count": null,
            "_view_module": "@jupyter-widgets/controls",
            "_view_module_version": "1.5.0",
            "_view_name": "ProgressView",
            "bar_style": "success",
            "description": "",
            "description_tooltip": null,
            "layout": "IPY_MODEL_e438f53154454d5384b02955d2afb56b",
            "max": 1648877,
            "min": 0,
            "orientation": "horizontal",
            "style": "IPY_MODEL_7be9ba7488b1454a94beeb83e1ed56a0",
            "value": 1648877
          }
        },
        "8717bb1f79f84d66a357190e71e31f5d": {
          "model_module": "@jupyter-widgets/controls",
          "model_name": "HTMLModel",
          "model_module_version": "1.5.0",
          "state": {
            "_dom_classes": [],
            "_model_module": "@jupyter-widgets/controls",
            "_model_module_version": "1.5.0",
            "_model_name": "HTMLModel",
            "_view_count": null,
            "_view_module": "@jupyter-widgets/controls",
            "_view_module_version": "1.5.0",
            "_view_name": "HTMLView",
            "description": "",
            "description_tooltip": null,
            "layout": "IPY_MODEL_ddc347d32853414f94db7bdaa3f3e2e7",
            "placeholder": "​",
            "style": "IPY_MODEL_5db4f42872384ebea76e61fc979d4505",
            "value": " 1649664/? [00:00&lt;00:00, 16902834.76it/s]"
          }
        },
        "1194eab39c264fc19771d10da757a7ef": {
          "model_module": "@jupyter-widgets/base",
          "model_name": "LayoutModel",
          "model_module_version": "1.2.0",
          "state": {
            "_model_module": "@jupyter-widgets/base",
            "_model_module_version": "1.2.0",
            "_model_name": "LayoutModel",
            "_view_count": null,
            "_view_module": "@jupyter-widgets/base",
            "_view_module_version": "1.2.0",
            "_view_name": "LayoutView",
            "align_content": null,
            "align_items": null,
            "align_self": null,
            "border": null,
            "bottom": null,
            "display": null,
            "flex": null,
            "flex_flow": null,
            "grid_area": null,
            "grid_auto_columns": null,
            "grid_auto_flow": null,
            "grid_auto_rows": null,
            "grid_column": null,
            "grid_gap": null,
            "grid_row": null,
            "grid_template_areas": null,
            "grid_template_columns": null,
            "grid_template_rows": null,
            "height": null,
            "justify_content": null,
            "justify_items": null,
            "left": null,
            "margin": null,
            "max_height": null,
            "max_width": null,
            "min_height": null,
            "min_width": null,
            "object_fit": null,
            "object_position": null,
            "order": null,
            "overflow": null,
            "overflow_x": null,
            "overflow_y": null,
            "padding": null,
            "right": null,
            "top": null,
            "visibility": null,
            "width": null
          }
        },
        "21e66ce6c7af40049a9ae9156145d34d": {
          "model_module": "@jupyter-widgets/base",
          "model_name": "LayoutModel",
          "model_module_version": "1.2.0",
          "state": {
            "_model_module": "@jupyter-widgets/base",
            "_model_module_version": "1.2.0",
            "_model_name": "LayoutModel",
            "_view_count": null,
            "_view_module": "@jupyter-widgets/base",
            "_view_module_version": "1.2.0",
            "_view_name": "LayoutView",
            "align_content": null,
            "align_items": null,
            "align_self": null,
            "border": null,
            "bottom": null,
            "display": null,
            "flex": null,
            "flex_flow": null,
            "grid_area": null,
            "grid_auto_columns": null,
            "grid_auto_flow": null,
            "grid_auto_rows": null,
            "grid_column": null,
            "grid_gap": null,
            "grid_row": null,
            "grid_template_areas": null,
            "grid_template_columns": null,
            "grid_template_rows": null,
            "height": null,
            "justify_content": null,
            "justify_items": null,
            "left": null,
            "margin": null,
            "max_height": null,
            "max_width": null,
            "min_height": null,
            "min_width": null,
            "object_fit": null,
            "object_position": null,
            "order": null,
            "overflow": null,
            "overflow_x": null,
            "overflow_y": null,
            "padding": null,
            "right": null,
            "top": null,
            "visibility": null,
            "width": null
          }
        },
        "c9783c9fe09945a78672fe95ae3208d3": {
          "model_module": "@jupyter-widgets/controls",
          "model_name": "DescriptionStyleModel",
          "model_module_version": "1.5.0",
          "state": {
            "_model_module": "@jupyter-widgets/controls",
            "_model_module_version": "1.5.0",
            "_model_name": "DescriptionStyleModel",
            "_view_count": null,
            "_view_module": "@jupyter-widgets/base",
            "_view_module_version": "1.2.0",
            "_view_name": "StyleView",
            "description_width": ""
          }
        },
        "e438f53154454d5384b02955d2afb56b": {
          "model_module": "@jupyter-widgets/base",
          "model_name": "LayoutModel",
          "model_module_version": "1.2.0",
          "state": {
            "_model_module": "@jupyter-widgets/base",
            "_model_module_version": "1.2.0",
            "_model_name": "LayoutModel",
            "_view_count": null,
            "_view_module": "@jupyter-widgets/base",
            "_view_module_version": "1.2.0",
            "_view_name": "LayoutView",
            "align_content": null,
            "align_items": null,
            "align_self": null,
            "border": null,
            "bottom": null,
            "display": null,
            "flex": null,
            "flex_flow": null,
            "grid_area": null,
            "grid_auto_columns": null,
            "grid_auto_flow": null,
            "grid_auto_rows": null,
            "grid_column": null,
            "grid_gap": null,
            "grid_row": null,
            "grid_template_areas": null,
            "grid_template_columns": null,
            "grid_template_rows": null,
            "height": null,
            "justify_content": null,
            "justify_items": null,
            "left": null,
            "margin": null,
            "max_height": null,
            "max_width": null,
            "min_height": null,
            "min_width": null,
            "object_fit": null,
            "object_position": null,
            "order": null,
            "overflow": null,
            "overflow_x": null,
            "overflow_y": null,
            "padding": null,
            "right": null,
            "top": null,
            "visibility": null,
            "width": null
          }
        },
        "7be9ba7488b1454a94beeb83e1ed56a0": {
          "model_module": "@jupyter-widgets/controls",
          "model_name": "ProgressStyleModel",
          "model_module_version": "1.5.0",
          "state": {
            "_model_module": "@jupyter-widgets/controls",
            "_model_module_version": "1.5.0",
            "_model_name": "ProgressStyleModel",
            "_view_count": null,
            "_view_module": "@jupyter-widgets/base",
            "_view_module_version": "1.2.0",
            "_view_name": "StyleView",
            "bar_color": null,
            "description_width": ""
          }
        },
        "ddc347d32853414f94db7bdaa3f3e2e7": {
          "model_module": "@jupyter-widgets/base",
          "model_name": "LayoutModel",
          "model_module_version": "1.2.0",
          "state": {
            "_model_module": "@jupyter-widgets/base",
            "_model_module_version": "1.2.0",
            "_model_name": "LayoutModel",
            "_view_count": null,
            "_view_module": "@jupyter-widgets/base",
            "_view_module_version": "1.2.0",
            "_view_name": "LayoutView",
            "align_content": null,
            "align_items": null,
            "align_self": null,
            "border": null,
            "bottom": null,
            "display": null,
            "flex": null,
            "flex_flow": null,
            "grid_area": null,
            "grid_auto_columns": null,
            "grid_auto_flow": null,
            "grid_auto_rows": null,
            "grid_column": null,
            "grid_gap": null,
            "grid_row": null,
            "grid_template_areas": null,
            "grid_template_columns": null,
            "grid_template_rows": null,
            "height": null,
            "justify_content": null,
            "justify_items": null,
            "left": null,
            "margin": null,
            "max_height": null,
            "max_width": null,
            "min_height": null,
            "min_width": null,
            "object_fit": null,
            "object_position": null,
            "order": null,
            "overflow": null,
            "overflow_x": null,
            "overflow_y": null,
            "padding": null,
            "right": null,
            "top": null,
            "visibility": null,
            "width": null
          }
        },
        "5db4f42872384ebea76e61fc979d4505": {
          "model_module": "@jupyter-widgets/controls",
          "model_name": "DescriptionStyleModel",
          "model_module_version": "1.5.0",
          "state": {
            "_model_module": "@jupyter-widgets/controls",
            "_model_module_version": "1.5.0",
            "_model_name": "DescriptionStyleModel",
            "_view_count": null,
            "_view_module": "@jupyter-widgets/base",
            "_view_module_version": "1.2.0",
            "_view_name": "StyleView",
            "description_width": ""
          }
        },
        "5b40928ca4ec4d5cb8e391af17543ebb": {
          "model_module": "@jupyter-widgets/controls",
          "model_name": "HBoxModel",
          "model_module_version": "1.5.0",
          "state": {
            "_dom_classes": [],
            "_model_module": "@jupyter-widgets/controls",
            "_model_module_version": "1.5.0",
            "_model_name": "HBoxModel",
            "_view_count": null,
            "_view_module": "@jupyter-widgets/controls",
            "_view_module_version": "1.5.0",
            "_view_name": "HBoxView",
            "box_style": "",
            "children": [
              "IPY_MODEL_43e49566ef7b4495917b0260e2e55f86",
              "IPY_MODEL_f19586d16ea34d34adf24cc5e941fb3d",
              "IPY_MODEL_618bcd2321a24e2da24b9c0b332943fe"
            ],
            "layout": "IPY_MODEL_c4c1274133c4496388cb6a59c3628e7e"
          }
        },
        "43e49566ef7b4495917b0260e2e55f86": {
          "model_module": "@jupyter-widgets/controls",
          "model_name": "HTMLModel",
          "model_module_version": "1.5.0",
          "state": {
            "_dom_classes": [],
            "_model_module": "@jupyter-widgets/controls",
            "_model_module_version": "1.5.0",
            "_model_name": "HTMLModel",
            "_view_count": null,
            "_view_module": "@jupyter-widgets/controls",
            "_view_module_version": "1.5.0",
            "_view_name": "HTMLView",
            "description": "",
            "description_tooltip": null,
            "layout": "IPY_MODEL_3adc5486bd5e473e9948f4a45c3ae0eb",
            "placeholder": "​",
            "style": "IPY_MODEL_9ee223dd5ae04b4ca1eebb43b7406657",
            "value": ""
          }
        },
        "f19586d16ea34d34adf24cc5e941fb3d": {
          "model_module": "@jupyter-widgets/controls",
          "model_name": "FloatProgressModel",
          "model_module_version": "1.5.0",
          "state": {
            "_dom_classes": [],
            "_model_module": "@jupyter-widgets/controls",
            "_model_module_version": "1.5.0",
            "_model_name": "FloatProgressModel",
            "_view_count": null,
            "_view_module": "@jupyter-widgets/controls",
            "_view_module_version": "1.5.0",
            "_view_name": "ProgressView",
            "bar_style": "success",
            "description": "",
            "description_tooltip": null,
            "layout": "IPY_MODEL_61b99e3eaa9940f2be0cdd6c3f870748",
            "max": 4542,
            "min": 0,
            "orientation": "horizontal",
            "style": "IPY_MODEL_05002587c24a4a148c411977902970a6",
            "value": 4542
          }
        },
        "618bcd2321a24e2da24b9c0b332943fe": {
          "model_module": "@jupyter-widgets/controls",
          "model_name": "HTMLModel",
          "model_module_version": "1.5.0",
          "state": {
            "_dom_classes": [],
            "_model_module": "@jupyter-widgets/controls",
            "_model_module_version": "1.5.0",
            "_model_name": "HTMLModel",
            "_view_count": null,
            "_view_module": "@jupyter-widgets/controls",
            "_view_module_version": "1.5.0",
            "_view_name": "HTMLView",
            "description": "",
            "description_tooltip": null,
            "layout": "IPY_MODEL_3aaf8d49b9c74a72a6fc23bed2a71adc",
            "placeholder": "​",
            "style": "IPY_MODEL_3dcb9e7487734d58bd922d83cef4f7e5",
            "value": " 5120/? [00:00&lt;00:00, 96190.15it/s]"
          }
        },
        "c4c1274133c4496388cb6a59c3628e7e": {
          "model_module": "@jupyter-widgets/base",
          "model_name": "LayoutModel",
          "model_module_version": "1.2.0",
          "state": {
            "_model_module": "@jupyter-widgets/base",
            "_model_module_version": "1.2.0",
            "_model_name": "LayoutModel",
            "_view_count": null,
            "_view_module": "@jupyter-widgets/base",
            "_view_module_version": "1.2.0",
            "_view_name": "LayoutView",
            "align_content": null,
            "align_items": null,
            "align_self": null,
            "border": null,
            "bottom": null,
            "display": null,
            "flex": null,
            "flex_flow": null,
            "grid_area": null,
            "grid_auto_columns": null,
            "grid_auto_flow": null,
            "grid_auto_rows": null,
            "grid_column": null,
            "grid_gap": null,
            "grid_row": null,
            "grid_template_areas": null,
            "grid_template_columns": null,
            "grid_template_rows": null,
            "height": null,
            "justify_content": null,
            "justify_items": null,
            "left": null,
            "margin": null,
            "max_height": null,
            "max_width": null,
            "min_height": null,
            "min_width": null,
            "object_fit": null,
            "object_position": null,
            "order": null,
            "overflow": null,
            "overflow_x": null,
            "overflow_y": null,
            "padding": null,
            "right": null,
            "top": null,
            "visibility": null,
            "width": null
          }
        },
        "3adc5486bd5e473e9948f4a45c3ae0eb": {
          "model_module": "@jupyter-widgets/base",
          "model_name": "LayoutModel",
          "model_module_version": "1.2.0",
          "state": {
            "_model_module": "@jupyter-widgets/base",
            "_model_module_version": "1.2.0",
            "_model_name": "LayoutModel",
            "_view_count": null,
            "_view_module": "@jupyter-widgets/base",
            "_view_module_version": "1.2.0",
            "_view_name": "LayoutView",
            "align_content": null,
            "align_items": null,
            "align_self": null,
            "border": null,
            "bottom": null,
            "display": null,
            "flex": null,
            "flex_flow": null,
            "grid_area": null,
            "grid_auto_columns": null,
            "grid_auto_flow": null,
            "grid_auto_rows": null,
            "grid_column": null,
            "grid_gap": null,
            "grid_row": null,
            "grid_template_areas": null,
            "grid_template_columns": null,
            "grid_template_rows": null,
            "height": null,
            "justify_content": null,
            "justify_items": null,
            "left": null,
            "margin": null,
            "max_height": null,
            "max_width": null,
            "min_height": null,
            "min_width": null,
            "object_fit": null,
            "object_position": null,
            "order": null,
            "overflow": null,
            "overflow_x": null,
            "overflow_y": null,
            "padding": null,
            "right": null,
            "top": null,
            "visibility": null,
            "width": null
          }
        },
        "9ee223dd5ae04b4ca1eebb43b7406657": {
          "model_module": "@jupyter-widgets/controls",
          "model_name": "DescriptionStyleModel",
          "model_module_version": "1.5.0",
          "state": {
            "_model_module": "@jupyter-widgets/controls",
            "_model_module_version": "1.5.0",
            "_model_name": "DescriptionStyleModel",
            "_view_count": null,
            "_view_module": "@jupyter-widgets/base",
            "_view_module_version": "1.2.0",
            "_view_name": "StyleView",
            "description_width": ""
          }
        },
        "61b99e3eaa9940f2be0cdd6c3f870748": {
          "model_module": "@jupyter-widgets/base",
          "model_name": "LayoutModel",
          "model_module_version": "1.2.0",
          "state": {
            "_model_module": "@jupyter-widgets/base",
            "_model_module_version": "1.2.0",
            "_model_name": "LayoutModel",
            "_view_count": null,
            "_view_module": "@jupyter-widgets/base",
            "_view_module_version": "1.2.0",
            "_view_name": "LayoutView",
            "align_content": null,
            "align_items": null,
            "align_self": null,
            "border": null,
            "bottom": null,
            "display": null,
            "flex": null,
            "flex_flow": null,
            "grid_area": null,
            "grid_auto_columns": null,
            "grid_auto_flow": null,
            "grid_auto_rows": null,
            "grid_column": null,
            "grid_gap": null,
            "grid_row": null,
            "grid_template_areas": null,
            "grid_template_columns": null,
            "grid_template_rows": null,
            "height": null,
            "justify_content": null,
            "justify_items": null,
            "left": null,
            "margin": null,
            "max_height": null,
            "max_width": null,
            "min_height": null,
            "min_width": null,
            "object_fit": null,
            "object_position": null,
            "order": null,
            "overflow": null,
            "overflow_x": null,
            "overflow_y": null,
            "padding": null,
            "right": null,
            "top": null,
            "visibility": null,
            "width": null
          }
        },
        "05002587c24a4a148c411977902970a6": {
          "model_module": "@jupyter-widgets/controls",
          "model_name": "ProgressStyleModel",
          "model_module_version": "1.5.0",
          "state": {
            "_model_module": "@jupyter-widgets/controls",
            "_model_module_version": "1.5.0",
            "_model_name": "ProgressStyleModel",
            "_view_count": null,
            "_view_module": "@jupyter-widgets/base",
            "_view_module_version": "1.2.0",
            "_view_name": "StyleView",
            "bar_color": null,
            "description_width": ""
          }
        },
        "3aaf8d49b9c74a72a6fc23bed2a71adc": {
          "model_module": "@jupyter-widgets/base",
          "model_name": "LayoutModel",
          "model_module_version": "1.2.0",
          "state": {
            "_model_module": "@jupyter-widgets/base",
            "_model_module_version": "1.2.0",
            "_model_name": "LayoutModel",
            "_view_count": null,
            "_view_module": "@jupyter-widgets/base",
            "_view_module_version": "1.2.0",
            "_view_name": "LayoutView",
            "align_content": null,
            "align_items": null,
            "align_self": null,
            "border": null,
            "bottom": null,
            "display": null,
            "flex": null,
            "flex_flow": null,
            "grid_area": null,
            "grid_auto_columns": null,
            "grid_auto_flow": null,
            "grid_auto_rows": null,
            "grid_column": null,
            "grid_gap": null,
            "grid_row": null,
            "grid_template_areas": null,
            "grid_template_columns": null,
            "grid_template_rows": null,
            "height": null,
            "justify_content": null,
            "justify_items": null,
            "left": null,
            "margin": null,
            "max_height": null,
            "max_width": null,
            "min_height": null,
            "min_width": null,
            "object_fit": null,
            "object_position": null,
            "order": null,
            "overflow": null,
            "overflow_x": null,
            "overflow_y": null,
            "padding": null,
            "right": null,
            "top": null,
            "visibility": null,
            "width": null
          }
        },
        "3dcb9e7487734d58bd922d83cef4f7e5": {
          "model_module": "@jupyter-widgets/controls",
          "model_name": "DescriptionStyleModel",
          "model_module_version": "1.5.0",
          "state": {
            "_model_module": "@jupyter-widgets/controls",
            "_model_module_version": "1.5.0",
            "_model_name": "DescriptionStyleModel",
            "_view_count": null,
            "_view_module": "@jupyter-widgets/base",
            "_view_module_version": "1.2.0",
            "_view_name": "StyleView",
            "description_width": ""
          }
        }
      }
    }
  },
  "nbformat": 4,
  "nbformat_minor": 0
}